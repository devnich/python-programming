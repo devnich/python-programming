{
 "cells": [
  {
   "cell_type": "code",
   "execution_count": null,
   "id": "d676d7b7-ad43-4492-a00c-b32bdcd2a8ce",
   "metadata": {
    "tags": []
   },
   "outputs": [],
   "source": [
    "## Iteration (\"for\" loops)"
   ]
  },
  {
   "cell_type": "code",
   "execution_count": null,
   "id": "785829fd-df43-47f1-940a-143d59e8ca36",
   "metadata": {},
   "outputs": [],
   "source": [
    "# The simplest possible for loop\n",
    "for number in [2, 3, 5]:\n",
    "    print(number)"
   ]
  },
  {
   "cell_type": "code",
   "execution_count": null,
   "id": "63117998-d1b7-4aee-a479-13a97b0aa248",
   "metadata": {},
   "outputs": [],
   "source": [
    "# A cleaned up simple loop\n",
    "primes = [2, 3, 5]\n",
    "for item in primes:\n",
    "    print(item)"
   ]
  },
  {
   "cell_type": "code",
   "execution_count": null,
   "id": "ef4046bc-eec2-43a9-b7b7-b020a21ecf89",
   "metadata": {},
   "outputs": [],
   "source": [
    "# The body of a loop can contain many statements\n",
    "primes = [2, 3, 5]\n",
    "for p in primes:\n",
    "    squared = p**2\n",
    "    cubed = p**3\n",
    "    print(p, squared, cubed)"
   ]
  },
  {
   "cell_type": "code",
   "execution_count": null,
   "id": "00133bb5-c443-4d54-aa1c-77d809e1e04b",
   "metadata": {},
   "outputs": [],
   "source": [
    "# You can get output from the loop\n",
    "primes = [2, 3, 5]\n",
    "squared_primes = []\n",
    "\n",
    "for p in primes:\n",
    "    squared_primes.append(p**2)\n",
    "    print(squared_primes)\n",
    "    \n",
    "print(\"Final list\", squared_primes)"
   ]
  },
  {
   "cell_type": "code",
   "execution_count": null,
   "id": "98bd05f5-6b5a-4008-9423-07515049baf2",
   "metadata": {},
   "outputs": [],
   "source": [
    "# The Accumulator pattern turns many inputs into a single output\n",
    "primes = [2, 3, 5]\n",
    "primes_sum = 0\n",
    "\n",
    "print(\"Primes sum initial value\", 0)\n",
    "\n",
    "for p in primes:\n",
    "    primes_sum = primes_sum + p\n",
    "    print(\"Primes sum\", primes_sum)"
   ]
  },
  {
   "cell_type": "code",
   "execution_count": null,
   "id": "38a6c53d-f4c0-4a8f-bba5-84f29f56aafd",
   "metadata": {},
   "outputs": [],
   "source": [
    "# The range function counts from 0\n",
    "for number in range(0, 3):\n",
    "    print(number)"
   ]
  },
  {
   "cell_type": "code",
   "execution_count": null,
   "id": "1fe089d3-8147-403a-a4f5-ee5df20d240a",
   "metadata": {},
   "outputs": [],
   "source": [
    "# Enumerate gives you the item and its count\n",
    "for number, item in enumerate(primes):\n",
    "    print(number, item)"
   ]
  },
  {
   "cell_type": "code",
   "execution_count": null,
   "id": "f52854af-a550-4646-ba9e-dd34fa04bf50",
   "metadata": {},
   "outputs": [],
   "source": [
    "# Dictonaries have special methods for iteration\n",
    "ages = {\"Derek\":34, \"Erin\":37, \"Bill\":12}\n",
    "\n",
    "print(\"Iterating through keys\")\n",
    "for key in ages:\n",
    "    print(key)\n",
    "    \n",
    "print(\"Iterating through values\")\n",
    "for val in ages.values():\n",
    "    print(val)\n",
    "    \n",
    "print(\"Iterating through keys and values\")\n",
    "for key, val in ages.items():\n",
    "    print(key, val)"
   ]
  },
  {
   "cell_type": "code",
   "execution_count": null,
   "id": "5a0170d2-ce74-489c-8b54-49350e51e089",
   "metadata": {},
   "outputs": [],
   "source": [
    "# \"if\" a condition is true, do something\n",
    "# The simplest possible if statement\n",
    "\n",
    "mass = 3.54\n",
    "if mass > 3.0:\n",
    "    print(\"Mass is large\")\n",
    "    \n",
    "mass = 2.07\n",
    "if mass > 3.0:\n",
    "    print(\"Mass is large\")"
   ]
  },
  {
   "cell_type": "code",
   "execution_count": null,
   "id": "cf9e0679-a256-4208-8371-7bc73460447b",
   "metadata": {},
   "outputs": [],
   "source": [
    "# A more natural if statement\n",
    "masses = [2.4, 5.4, 8.6, 1.4]\n",
    "for m in masses:\n",
    "    if m > 3.0:\n",
    "        print(\"Mass is large\", m)"
   ]
  },
  {
   "cell_type": "code",
   "execution_count": null,
   "id": "a46277cd-32ff-4ada-bf67-c32470fc7556",
   "metadata": {},
   "outputs": [],
   "source": [
    "# Collect the output of your if statement\n",
    "masses = [2.4, 5.4, 8.6, 1.4]\n",
    "large_m = []\n",
    "\n",
    "for m in masses:\n",
    "    if m > 3.0:\n",
    "        large_m.append(m)\n",
    "\n",
    "print(large_m)"
   ]
  },
  {
   "cell_type": "code",
   "execution_count": null,
   "id": "a38ef53b-de90-42ad-bc36-27d1843d2277",
   "metadata": {},
   "outputs": [],
   "source": [
    "# Perform a default action with \"else\"\n",
    "masses = [2.4, 5.4, 8.6, 1.4]\n",
    "large_m = []\n",
    "small_m = []\n",
    "\n",
    "for m in masses:\n",
    "    if m > 3.0:\n",
    "        large_m.append(m)\n",
    "    else:\n",
    "        small_m.append(m)"
   ]
  },
  {
   "cell_type": "code",
   "execution_count": null,
   "id": "b0ed5920-dd66-4271-ab90-f2921548ec95",
   "metadata": {},
   "outputs": [],
   "source": [
    "print(large_m)\n",
    "print(small_m)"
   ]
  },
  {
   "cell_type": "code",
   "execution_count": null,
   "id": "66333b3e-2f4c-4151-8545-a533e119f2b1",
   "metadata": {},
   "outputs": [],
   "source": [
    "# Perform alternative actions with \"elif\"\n",
    "masses = [2.4, 5.4, 8.6, 1.4]\n",
    "large_m = []\n",
    "small_m = []\n",
    "huge_m = []\n",
    "\n",
    "for m in masses:\n",
    "    # Most restrictive criterion first\n",
    "    if m > 8.0:\n",
    "        huge_m.append(m)\n",
    "    # Less restrictive criterion later\n",
    "    elif m > 3.0:\n",
    "        large_m.append(m)\n",
    "    # Catch-all for unhandled items\n",
    "    else:\n",
    "        small_m.append(m)\n",
    "        \n",
    "print(\"Huge\", huge_m)\n",
    "print(\"Large\", large_m)\n",
    "print(\"Small\", small_m)"
   ]
  },
  {
   "cell_type": "code",
   "execution_count": null,
   "id": "a59b0e3c-3b65-4e52-bc08-20f37dec77a2",
   "metadata": {},
   "outputs": [],
   "source": [
    "## Looping over data sets\n",
    "# The simplest case: Loop over a list of literal names\n",
    "import pandas as pd\n",
    "\n",
    "file_list = [\"data/gapminder_gdp_africa.csv\", \"data/gapminder_gdp_asia.csv\"]\n",
    "for filename in file_list:\n",
    "    data = pd.read_csv(filename, index_col='country')\n",
    "    print(filename)\n",
    "    print(data.describe())"
   ]
  },
  {
   "cell_type": "code",
   "execution_count": null,
   "id": "e040e5ee-b434-4e43-b782-61052e732aaa",
   "metadata": {},
   "outputs": [],
   "source": [
    "# A more general way of iterating over files:\n",
    "# Loop over a list of files that match a pattern\n",
    "import glob\n",
    "\n",
    "for filename in glob.glob(\"data/gapminder_gdp_*.csv\"):\n",
    "    data = pd.read_csv(filename, index_col='country')\n",
    "    print(filename)\n",
    "    print(data.describe())"
   ]
  },
  {
   "cell_type": "code",
   "execution_count": null,
   "id": "8d536cd9-f813-45cf-85fa-8041d2b5c0d3",
   "metadata": {},
   "outputs": [],
   "source": [
    "# Function encapsulate coherent blocks of code\n",
    "# The simplest possible function\n",
    "def print_greeting():\n",
    "    print(\"Hello!\")"
   ]
  },
  {
   "cell_type": "code",
   "execution_count": null,
   "id": "ab637ed4-dadc-4fe1-994e-e975da0d4a7d",
   "metadata": {},
   "outputs": [],
   "source": [
    "print_greeting()"
   ]
  },
  {
   "cell_type": "code",
   "execution_count": null,
   "id": "493cf952-b133-495d-9b22-1e6d002036d9",
   "metadata": {},
   "outputs": [],
   "source": [
    "# A slightly more generic function\n",
    "def print_greeting(greeting):\n",
    "    print(greeting)\n",
    "    \n",
    "# Unpacking this function under the hood\n",
    "# def print_greeting(\"Good day!\")\n",
    "#    greeting = \"Good day!\"\n",
    "#    print(greeting)"
   ]
  },
  {
   "cell_type": "code",
   "execution_count": null,
   "id": "62cf17cf-2a21-4152-8e61-6f2284317de9",
   "metadata": {},
   "outputs": [],
   "source": [
    "print_greeting(\"Good day!\")"
   ]
  },
  {
   "cell_type": "code",
   "execution_count": null,
   "id": "2d16d48b-57de-4dd5-9bc4-a9d57e9f2914",
   "metadata": {},
   "outputs": [],
   "source": [
    "# A more complete example of arguments\n",
    "# By default we use positional arguments\n",
    "def print_date(year, month, day):\n",
    "    joined = '/'.join([str(year), str(month), str(day)])\n",
    "    print(joined)\n",
    "    \n",
    "print_date(2021, 10, 21)"
   ]
  },
  {
   "cell_type": "code",
   "execution_count": null,
   "id": "a444f8ee-ac05-4470-9ebc-ea5d2efa3947",
   "metadata": {},
   "outputs": [],
   "source": [
    "# You can create keyword arguments to provide default values\n",
    "def print_date(year, month, day=1):\n",
    "    joined = '/'.join([str(year), str(month), str(day)])\n",
    "    print(joined)\n",
    "    \n",
    "# If you use the argument names, you can put them in any order\n",
    "print_date(month=3, day=21, year=2023)\n",
    "\n",
    "# If you don't specify the day, it defaults to the function definition, day=1\n",
    "print_date(month=4, year=2021)"
   ]
  },
  {
   "cell_type": "code",
   "execution_count": null,
   "id": "8783207e-3ce5-4c90-b665-01fd9c5c756c",
   "metadata": {},
   "outputs": [],
   "source": [
    "# Functions can return values\n",
    "def print_date(year, month, day=1):\n",
    "    joined = '/'.join([str(year), str(month), str(day)])\n",
    "    return joined\n",
    "\n",
    "date_string = print_date(2021, 3, 23)"
   ]
  },
  {
   "cell_type": "code",
   "execution_count": null,
   "id": "3c2f2e3a-e955-4b2e-a3d8-df92cf10c868",
   "metadata": {},
   "outputs": [],
   "source": [
    "date_string"
   ]
  },
  {
   "cell_type": "code",
   "execution_count": null,
   "id": "259283c8-58b0-42d1-bf7a-ab8f30816e82",
   "metadata": {},
   "outputs": [],
   "source": [
    "# Cross-platform file handling: If you need your script to work on Windows and Unix (Posix) environments\n",
    "from pathlib import Path\n",
    "\n",
    "# This creates a Path object that understands the current OS\n",
    "relative_path = Path(\"data\")"
   ]
  },
  {
   "cell_type": "code",
   "execution_count": null,
   "id": "d63c6e31-fb0e-490d-a540-2ab9824569ab",
   "metadata": {},
   "outputs": [],
   "source": [
    "# The Path object has helper methods\n",
    "print(\"Absolute path\", relative_path.absolute())\n",
    "print(\"Does this exist?\", relative_path.exists())\n",
    "print(\"Is this a directory?\", relative_path.is_dir())\n",
    "print(\"Is this a file?\", relative_path.is_file())"
   ]
  },
  {
   "cell_type": "code",
   "execution_count": null,
   "id": "08f86d04-5919-4a41-b045-6ce507ef70fd",
   "metadata": {},
   "outputs": [],
   "source": [
    "# Usage in practice\n",
    "from pathlib import Path\n",
    "\n",
    "relative_path = Path(\"data\")\n",
    "\n",
    "if relative_path.exists():\n",
    "    for filename in relative_path.glob(\"gapminder_*.csv\"):\n",
    "        if filename.is_file():\n",
    "            data = pd.read_csv(filename)\n",
    "            print(filename)\n",
    "            print(data.describe())"
   ]
  },
  {
   "cell_type": "code",
   "execution_count": null,
   "id": "7e10eb7f-c1d5-4251-80db-af7914c26e5f",
   "metadata": {},
   "outputs": [],
   "source": [
    "# Get the name of each directory in the directory tree\n",
    "abs_path = relative_path.absolute()\n",
    "\n",
    "print(abs_path)\n",
    "print(abs_path.parts)"
   ]
  },
  {
   "cell_type": "code",
   "execution_count": null,
   "id": "cec5dc6b-5d4c-4c1c-9c22-af4717e5aa66",
   "metadata": {},
   "outputs": [],
   "source": [
    "# Object introspection: Is this a method?\n",
    "\n",
    "# methods are callable\n",
    "print(\"Is `is_file` a method?\", callable(abs_path.is_file))\n",
    "\n",
    "# fields are not callable\n",
    "print(\"Is `parts` a method?\", callable(abs_path.parts))"
   ]
  }
 ],
 "metadata": {
  "kernelspec": {
   "display_name": "Python 3 (ipykernel)",
   "language": "python",
   "name": "python3"
  },
  "language_info": {
   "codemirror_mode": {
    "name": "ipython",
    "version": 3
   },
   "file_extension": ".py",
   "mimetype": "text/x-python",
   "name": "python",
   "nbconvert_exporter": "python",
   "pygments_lexer": "ipython3",
   "version": "3.7.11"
  }
 },
 "nbformat": 4,
 "nbformat_minor": 5
}
