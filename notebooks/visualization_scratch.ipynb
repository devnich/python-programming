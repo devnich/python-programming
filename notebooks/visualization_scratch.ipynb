{
 "cells": [
  {
   "cell_type": "code",
   "execution_count": null,
   "id": "2be6711b-0e36-411a-9122-579d40398c94",
   "metadata": {},
   "outputs": [],
   "source": [
    "## TEMPLATE CODE\n",
    "\n",
    "# Import Pyplot library\n",
    "import matplotlib.pyplot as plt"
   ]
  },
  {
   "cell_type": "code",
   "execution_count": null,
   "id": "c82a4342-2457-42c2-98d0-cfa754a45eec",
   "metadata": {},
   "outputs": [],
   "source": [
    "## Create the simplest possible graph\n",
    "\n",
    "# Create some sample data\n",
    "time = [0, 1, 2, 3]\n",
    "position = [0, 100, 200, 300]\n",
    "\n",
    "# Create the figure and axes objects\n",
    "fig, ax = plt.subplots()\n",
    "\n",
    "# Draw the plot\n",
    "ax.plot(time, position)"
   ]
  },
  {
   "cell_type": "code",
   "execution_count": null,
   "id": "1c1729b0-eef9-4329-9a5c-d0bf3b79331a",
   "metadata": {},
   "outputs": [],
   "source": [
    "# Inspect the object\n",
    "type(fig)"
   ]
  },
  {
   "cell_type": "code",
   "execution_count": null,
   "id": "e813fea0-a06c-481e-8436-c98f61807634",
   "metadata": {},
   "outputs": [],
   "source": [
    "# Inspect the Figure and Axes objects\n",
    "print(type(fig))\n",
    "print(type(ax))"
   ]
  },
  {
   "cell_type": "code",
   "execution_count": null,
   "id": "51f9b86e-6cf2-470f-a55d-339e183d3a5f",
   "metadata": {},
   "outputs": [],
   "source": [
    "# Display figure in the jupyter notebook\n",
    "fig"
   ]
  },
  {
   "cell_type": "code",
   "execution_count": null,
   "id": "826cd1d5-027e-4fd5-8ea4-866783aa6219",
   "metadata": {},
   "outputs": [],
   "source": [
    "## TEMPLATE CODE\n",
    "\n",
    "# Optional: Display figure in a new window from the Python terminal\n",
    "#fig.show()"
   ]
  },
  {
   "cell_type": "code",
   "execution_count": null,
   "id": "5a56439e-e84e-452a-9999-0268804db31e",
   "metadata": {},
   "outputs": [],
   "source": [
    "## TEMPLATE CODE\n",
    "\n",
    "## Create a more realistic figure\n",
    "# Create some random data\n",
    "import numpy as np\n",
    "\n",
    "x = np.arange(1980, 1990, 1)\n",
    "y = np.random.random(10)     # 10 random numbers between 0 and 1\n",
    "\n",
    "# Test that our vectors are the same\n",
    "assert len(x) == len(y)"
   ]
  },
  {
   "cell_type": "code",
   "execution_count": null,
   "id": "ed4d1559-d739-40a9-8b85-69ae9eca8d08",
   "metadata": {},
   "outputs": [],
   "source": [
    "# Inspect our data\n",
    "print(\"x:\", x)\n",
    "print(\"y:\", y)"
   ]
  },
  {
   "cell_type": "code",
   "execution_count": null,
   "id": "47456f71-d491-4128-88d0-e0a9a90441d0",
   "metadata": {},
   "outputs": [],
   "source": [
    "# Convert y axis into a percentage\n",
    "y = y * 100\n",
    "\n",
    "# Draw plot\n",
    "fig, ax = plt.subplots()\n",
    "ax.plot(x, y)"
   ]
  },
  {
   "cell_type": "code",
   "execution_count": null,
   "id": "683b740d-9e61-43dc-8434-06768ba99a6a",
   "metadata": {},
   "outputs": [],
   "source": [
    "# What are the available styles?\n",
    "plt.style.available"
   ]
  },
  {
   "cell_type": "code",
   "execution_count": null,
   "id": "bc9c9d62-b5e8-4286-8838-7145e1d49a9c",
   "metadata": {},
   "outputs": [],
   "source": [
    "# Use the dark background style\n",
    "plt.style.use(\"dark_background\")\n",
    "\n",
    "fig, ax = plt.subplots()\n",
    "ax.plot(x, y)"
   ]
  },
  {
   "cell_type": "code",
   "execution_count": null,
   "id": "f6d2a0b5-fb45-4acf-bce3-c3887fcf1f52",
   "metadata": {},
   "outputs": [],
   "source": [
    "## Customize the graph\n",
    "\n",
    "# Set figure size\n",
    "fig, ax = plt.subplots(figsize=(8,6))\n",
    "\n",
    "# set line attributes\n",
    "ax.plot(x, y, color='darkorange', linewidth=2, marker='o')\n",
    "\n",
    "# add titles and labels\n",
    "ax.set_title(\"Percent change in Stock X\", fontsize=22, fontweight='bold')\n",
    "ax.set_xlabel(\" Years \", fontsize=20, fontweight='bold')\n",
    "ax.set_ylabel(\" % change \", fontsize=20, fontweight='bold')\n",
    "\n",
    "# Adjust the tick labels\n",
    "ax.tick_params(axis='both', which='major', labelsize=10)\n",
    "\n",
    "# add a grid\n",
    "ax.grid(True)"
   ]
  },
  {
   "cell_type": "code",
   "execution_count": null,
   "id": "4c0b8326-4a3e-4f31-8363-86027e5a1649",
   "metadata": {},
   "outputs": [],
   "source": [
    "# Save your graph\n",
    "fig.savefig('../data/newgraph_dark.png', dpi=300)"
   ]
  },
  {
   "cell_type": "code",
   "execution_count": null,
   "id": "485a8274-a010-4059-bce4-4d35c0b6117c",
   "metadata": {},
   "outputs": [],
   "source": [
    "## TEMPLATE CODE\n",
    "\n",
    "## Graph multiple data sets\n",
    "import pandas as pd\n",
    "\n",
    "data = pd.read_csv(\"../data/gapminder_gdp_europe.csv\", index_col='country')"
   ]
  },
  {
   "cell_type": "code",
   "execution_count": null,
   "id": "387b4210-ac17-4239-8a5f-00268d885666",
   "metadata": {},
   "outputs": [],
   "source": [
    "# Inspect our data\n",
    "data.head(3)"
   ]
  },
  {
   "cell_type": "code",
   "execution_count": null,
   "id": "3db822f7-cade-49f1-8f80-9301637d29ef",
   "metadata": {},
   "outputs": [],
   "source": [
    "## TEMPLATE CODE\n",
    "## Transform column headers into ordinal scale\n",
    "\n",
    "# Strip off beginning of each column title\n",
    "years = data.columns.str.strip('gdpPercap_')\n",
    "\n",
    "# Convert strings to integers and make those the column headers\n",
    "data.columns = years.astype(int)"
   ]
  },
  {
   "cell_type": "code",
   "execution_count": null,
   "id": "0d3303ac-c793-4a59-b358-806db81c0ba1",
   "metadata": {},
   "outputs": [],
   "source": [
    "# Inspect again\n",
    "data.head(3)"
   ]
  },
  {
   "cell_type": "code",
   "execution_count": null,
   "id": "332aba9c-88a3-4294-a96d-3eee785daa91",
   "metadata": {},
   "outputs": [],
   "source": [
    "## Plot GDP over time\n",
    "\n",
    "# Extract rows from dataframe\n",
    "x_years = data.columns\n",
    "y_austria = data.loc['Austria']\n",
    "y_bulgaria = data.loc['Bulgaria']"
   ]
  },
  {
   "cell_type": "code",
   "execution_count": null,
   "id": "0629220c-60f5-4d15-b5f4-544fb511348e",
   "metadata": {},
   "outputs": [],
   "source": [
    "# Change global background back to default\n",
    "plt.style.use(\"default\")\n",
    "\n",
    "# Create GDP figure\n",
    "fig, ax = plt.subplots(figsize=(8,6))\n",
    "\n",
    "# Create GDP plot\n",
    "ax.plot(x_years, y_austria, label='Austria', color='darkgreen', linewidth=2, marker='x')\n",
    "ax.plot(x_years, y_bulgaria, label='Bulgaria', color='maroon', linewidth=2, marker='o')\n",
    "\n",
    "# Decorate the plot\n",
    "ax.legend(fontsize=16, loc='upper center') #automatically uses labels\n",
    "ax.set_title(\"GDP of Austria vs Bulgaria\", fontsize=22, fontweight='bold')\n",
    "ax.set_xlabel(\"Years\", fontsize=20, fontweight='bold')\n",
    "ax.set_ylabel(\"GDP\", fontsize=20, fontweight='bold')"
   ]
  },
  {
   "cell_type": "code",
   "execution_count": null,
   "id": "58f6b147-3f91-43e5-89e3-bc63c85eba4b",
   "metadata": {},
   "outputs": [],
   "source": [
    "## Scatter plots\n",
    "plt.style.use('ggplot')\n",
    "\n",
    "# Create a scatter plot\n",
    "fig, ax = plt.subplots(figsize=(8,6))\n",
    "ax.scatter(y_austria, y_bulgaria, color='blue', linewidth=2, marker='o')\n",
    "\n",
    "# Decorate the plot\n",
    "ax.set_title(\"GDP of Austria vs Bulgaria\", fontsize=22, fontweight='bold')\n",
    "ax.set_xlabel(\"GDP of Austria\",fontsize=20, fontweight='bold' )\n",
    "ax.set_ylabel(\"GDP of Bulgaria\",fontsize=20, fontweight='bold' )"
   ]
  },
  {
   "cell_type": "code",
   "execution_count": null,
   "id": "0702b22e-d4af-4d81-8071-b74378277c24",
   "metadata": {},
   "outputs": [],
   "source": [
    "## Seaborn is the nice way to look at your data\n",
    "plt.style.use('default')\n",
    "import seaborn as sns\n",
    "ax = sns.lineplot(data=data.T, legend=False, dashes=False)"
   ]
  },
  {
   "cell_type": "code",
   "execution_count": null,
   "id": "2a44684f-0ee2-4b20-bda8-408e3dfc66e8",
   "metadata": {},
   "outputs": [],
   "source": [
    "## TEMPLATE CODE\n",
    "\n",
    "# Demo Seaborn with the Iris dataset\n",
    "iris = pd.read_csv('../data/iris.csv')\n",
    "iris.head()"
   ]
  },
  {
   "cell_type": "code",
   "execution_count": null,
   "id": "1a85529a-ad98-41ed-afd0-69ed93cffb76",
   "metadata": {},
   "outputs": [],
   "source": [
    "# Scatterplot\n",
    "ax = sns.scatterplot(data=iris, x='sepal_length', y='petal_length')"
   ]
  },
  {
   "cell_type": "code",
   "execution_count": null,
   "id": "883e2846-eb70-463b-9ed9-3c9c32c12a2c",
   "metadata": {
    "tags": []
   },
   "outputs": [],
   "source": [
    "plt.style.use(\"dark_background\")\n",
    "\n",
    "# Make everything visible at a distance\n",
    "sns.set_context('poster')\n",
    "\n",
    "# Color data by species, size by petal width\n",
    "ax = sns.scatterplot(data=iris, x='sepal_length', y='petal_length', hue='species', palette='colorblind',\n",
    "                     size='petal_width')\n",
    "# ax.legend(loc='lower right')\n",
    "# Move legend to right side of screen\n",
    "ax.legend(bbox_to_anchor=(2,1))"
   ]
  },
  {
   "cell_type": "code",
   "execution_count": null,
   "id": "12014cdf-84ed-4f17-882b-56f4181d1e96",
   "metadata": {},
   "outputs": [],
   "source": [
    "# Set figure size\n",
    "fig = ax.get_figure()\n",
    "fig.set_size_inches(8,6)\n",
    "\n",
    "fig"
   ]
  },
  {
   "cell_type": "code",
   "execution_count": null,
   "id": "47340538-73dc-44de-b516-93cb9c63641d",
   "metadata": {},
   "outputs": [],
   "source": [
    "ax = sns.barplot(data=iris, x='species', y='sepal_width', palette='colorblind')"
   ]
  },
  {
   "cell_type": "code",
   "execution_count": null,
   "id": "7d4da311-f44b-49e4-95ff-1357ebf302a6",
   "metadata": {},
   "outputs": [],
   "source": [
    "# A quick histogram demo\n",
    "ax = sns.histplot(data=iris, x='petal_length', kde=True)"
   ]
  },
  {
   "cell_type": "code",
   "execution_count": null,
   "id": "3f838a43-7de7-47e8-88ef-defc22813892",
   "metadata": {},
   "outputs": [],
   "source": [
    "# Decompose by category\n",
    "ax = sns.histplot(data=iris, x='petal_length', hue='species', palette='Set2')"
   ]
  },
  {
   "cell_type": "code",
   "execution_count": null,
   "id": "94f70236-f0c9-447b-b563-66ffa938ff22",
   "metadata": {},
   "outputs": [],
   "source": [
    "# Creating multiple plots\n",
    "fig, axes = plt.subplots(figsize=(12,4), nrows=1, ncols=3)\n",
    "\n",
    "# Create 3 subplots\n",
    "sns.histplot(data=iris, x='petal_length', bins=5, ax=axes[0])\n",
    "sns.histplot(data=iris, x='petal_length', bins=10, ax=axes[1])\n",
    "sns.histplot(data=iris, x='petal_length', bins=15, ax=axes[2])"
   ]
  },
  {
   "cell_type": "code",
   "execution_count": null,
   "id": "92902e0c-4d7e-4db0-83ca-4c1d2d99fe87",
   "metadata": {},
   "outputs": [],
   "source": [
    "ax = sns.swarmplot(data=iris,x='species', y='petal_length', hue='species', palette='Set1')\n",
    "ax.legend(loc='upper left', fontsize=16)\n",
    "ax.tick_params(axis='x', labelrotation = 45)"
   ]
  },
  {
   "cell_type": "code",
   "execution_count": null,
   "id": "42a408ad-adac-4a3b-8154-05b3980ae567",
   "metadata": {},
   "outputs": [],
   "source": [
    "ax = sns.boxplot(data=iris, x='species', y='petal_length')\n",
    "sns.stripplot(data=iris, x='species', y='petal_length', ax=ax, palette='Set1')"
   ]
  }
 ],
 "metadata": {
  "kernelspec": {
   "display_name": "Python 3 (ipykernel)",
   "language": "python",
   "name": "python3"
  },
  "language_info": {
   "codemirror_mode": {
    "name": "ipython",
    "version": 3
   },
   "file_extension": ".py",
   "mimetype": "text/x-python",
   "name": "python",
   "nbconvert_exporter": "python",
   "pygments_lexer": "ipython3",
   "version": "3.9.13"
  }
 },
 "nbformat": 4,
 "nbformat_minor": 5
}
