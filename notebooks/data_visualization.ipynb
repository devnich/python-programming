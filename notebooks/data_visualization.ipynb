{
 "cells": [
  {
   "cell_type": "code",
   "execution_count": null,
   "id": "3afc5eed-6194-40e1-b430-21d44ae45fc0",
   "metadata": {},
   "outputs": [],
   "source": [
    "# Import libraries\n",
    "import pandas as pd\n",
    "import matplotlib.pyplot as plt"
   ]
  },
  {
   "cell_type": "code",
   "execution_count": null,
   "id": "c82a4342-2457-42c2-98d0-cfa754a45eec",
   "metadata": {},
   "outputs": [],
   "source": [
    "## Create the simplest possible graph\n",
    "\n",
    "# Create some sample data\n",
    "time = [0, 1, 2, 3]\n",
    "position = [0, 100, 200, 300]\n",
    "\n",
    "# Create our graph objects\n",
    "fig, ax = plt.subplots()\n",
    "ax.plot(time, position)"
   ]
  },
  {
   "cell_type": "code",
   "execution_count": null,
   "id": "1c1729b0-eef9-4329-9a5c-d0bf3b79331a",
   "metadata": {},
   "outputs": [],
   "source": [
    "# Inspect the Figure and Axes objects\n",
    "print(type(fig))\n",
    "print(type(ax))"
   ]
  },
  {
   "cell_type": "code",
   "execution_count": null,
   "id": "51f9b86e-6cf2-470f-a55d-339e183d3a5f",
   "metadata": {},
   "outputs": [],
   "source": [
    "# Display figure in the jupyter notebook\n",
    "fig"
   ]
  },
  {
   "cell_type": "code",
   "execution_count": null,
   "id": "826cd1d5-027e-4fd5-8ea4-866783aa6219",
   "metadata": {},
   "outputs": [],
   "source": [
    "# Display figure in a new window from the Python terminal\n",
    "#fig.show()"
   ]
  },
  {
   "cell_type": "code",
   "execution_count": null,
   "id": "5a56439e-e84e-452a-9999-0268804db31e",
   "metadata": {},
   "outputs": [],
   "source": [
    "## Create a more realistic figure\n",
    "# Create some random data\n",
    "import numpy as np\n",
    "\n",
    "y = np.random.random(10) # 10 random numbers between 0 and 1\n",
    "x = np.arange(1980, 1990, 1)\n",
    "\n",
    "# Test that our vectors are the same\n",
    "assert len(x) == len(y)\n",
    "\n",
    "# Turn our y axis into a percentage\n",
    "y = y*100"
   ]
  },
  {
   "cell_type": "code",
   "execution_count": null,
   "id": "1715d6bf-344a-466a-8d86-aa9fe5ec43f9",
   "metadata": {},
   "outputs": [],
   "source": [
    "fig, ax = plt.subplots()\n",
    "ax.plot(x, y)"
   ]
  },
  {
   "cell_type": "code",
   "execution_count": null,
   "id": "683b740d-9e61-43dc-8434-06768ba99a6a",
   "metadata": {},
   "outputs": [],
   "source": [
    "# What are the available styles?\n",
    "plt.style.available"
   ]
  },
  {
   "cell_type": "code",
   "execution_count": null,
   "id": "bc9c9d62-b5e8-4286-8838-7145e1d49a9c",
   "metadata": {},
   "outputs": [],
   "source": [
    "# Use the dark background style\n",
    "plt.style.use(\"dark_background\")\n",
    "\n",
    "fig, ax = plt.subplots()\n",
    "ax.plot(x, y)"
   ]
  },
  {
   "cell_type": "code",
   "execution_count": null,
   "id": "f6d2a0b5-fb45-4acf-bce3-c3887fcf1f52",
   "metadata": {},
   "outputs": [],
   "source": [
    "# Modify figure size, x/y axis, and fonts\n",
    "fig, ax = plt.subplots(figsize=(8,6)) # (width,height) in inches\n",
    "ax.plot(x, y, color='darkorange', linewidth=2, marker='o')\n",
    "\n",
    "# add titles and lables\n",
    "ax.set_title(\"Percent change in Stock X\", fontsize=22, fontweight='bold')\n",
    "ax.set_xlabel(\" Years \", fontsize=20, fontweight='bold')\n",
    "ax.set_ylabel(\" % change \", fontsize=20, fontweight='bold')\n",
    "\n",
    "# Adjust the tick labels\n",
    "ax.tick_params(axis='both', which='major', labelsize=10)\n",
    "\n",
    "# add a grid\n",
    "ax.grid(True)"
   ]
  },
  {
   "cell_type": "code",
   "execution_count": null,
   "id": "4c0b8326-4a3e-4f31-8363-86027e5a1649",
   "metadata": {},
   "outputs": [],
   "source": [
    "# Save your graph\n",
    "fig.savefig('data/newgraph.png', dpi=300)"
   ]
  },
  {
   "cell_type": "code",
   "execution_count": null,
   "id": "485a8274-a010-4059-bce4-4d35c0b6117c",
   "metadata": {},
   "outputs": [],
   "source": [
    "## Graph multiple data sets\n",
    "import pandas as pd\n",
    "\n",
    "data = pd.read_csv(\"data/gapminder_gdp_europe.csv\", index_col='country')"
   ]
  },
  {
   "cell_type": "code",
   "execution_count": null,
   "id": "387b4210-ac17-4239-8a5f-00268d885666",
   "metadata": {},
   "outputs": [],
   "source": [
    "data.head(3)"
   ]
  },
  {
   "cell_type": "code",
   "execution_count": null,
   "id": "3db822f7-cade-49f1-8f80-9301637d29ef",
   "metadata": {},
   "outputs": [],
   "source": [
    "## Transform column headers into data\n",
    "# Strip off front of strings\n",
    "years = data.columns.str.strip('gdpPercap_')\n",
    "\n",
    "# Convert strings to integers and make those the column headers\n",
    "data.columns = years.astype(int)"
   ]
  },
  {
   "cell_type": "code",
   "execution_count": null,
   "id": "0d3303ac-c793-4a59-b358-806db81c0ba1",
   "metadata": {},
   "outputs": [],
   "source": [
    "data.head(3)"
   ]
  },
  {
   "cell_type": "code",
   "execution_count": null,
   "id": "332aba9c-88a3-4294-a96d-3eee785daa91",
   "metadata": {},
   "outputs": [],
   "source": [
    "# Plot GDP over time\n",
    "x_years = data.columns\n",
    "y_austria = data.loc['Austria']\n",
    "y_bulgaria = data.loc['Bulgaria']"
   ]
  },
  {
   "cell_type": "code",
   "execution_count": null,
   "id": "0629220c-60f5-4d15-b5f4-544fb511348e",
   "metadata": {},
   "outputs": [],
   "source": [
    "# change global background\n",
    "plt.style.use(\"classic\")\n",
    "\n",
    "# Create our elaborate GDP plot\n",
    "fig, ax = plt.subplots(figsize=(8,6))\n",
    "\n",
    "ax.plot(x_years, y_austria, label='Austria', color='darkgreen', linewidth=2, marker='x')\n",
    "ax.plot(x_years, y_bulgaria, label='Bulgaria', color='maroon', linewidth=2, marker='o')\n",
    "\n",
    "# Decorate the plot\n",
    "ax.legend(fontsize=16, loc='upper center') #automatically uses labels\n",
    "ax.set_title(\"GDP of Austria vs Bulgaria\", fontsize=22, fontweight='bold')\n",
    "ax.set_xlabel(\"Years\", fontsize=20, fontweight='bold')\n",
    "ax.set_ylabel(\"GDP\", fontsize=20, fontweight='bold')"
   ]
  },
  {
   "cell_type": "code",
   "execution_count": null,
   "id": "0702b22e-d4af-4d81-8071-b74378277c24",
   "metadata": {},
   "outputs": [],
   "source": [
    "## Seaborn is the nice way to look at your data\n",
    "import seaborn as sns\n",
    "ax = sns.lineplot(data=data.T, legend=False, dashes=False)"
   ]
  },
  {
   "cell_type": "code",
   "execution_count": null,
   "id": "2a44684f-0ee2-4b20-bda8-408e3dfc66e8",
   "metadata": {},
   "outputs": [],
   "source": [
    "# Demo Seaborn with the Iris dataset\n",
    "iris = pd.read_csv('data/iris.csv')\n",
    "iris.head()"
   ]
  },
  {
   "cell_type": "code",
   "execution_count": null,
   "id": "1a85529a-ad98-41ed-afd0-69ed93cffb76",
   "metadata": {},
   "outputs": [],
   "source": [
    "# Scatterplot\n",
    "ax = sns.scatterplot(data=iris, x='sepal_length', y='petal_length')"
   ]
  },
  {
   "cell_type": "code",
   "execution_count": null,
   "id": "6df8aa44-2273-4f21-a73c-b243699e54d8",
   "metadata": {},
   "outputs": [],
   "source": [
    "plt.style.use(\"dark_background\")"
   ]
  },
  {
   "cell_type": "code",
   "execution_count": null,
   "id": "034225b5-2b9b-4397-9f1c-61533d1a147f",
   "metadata": {},
   "outputs": [],
   "source": [
    "# Make everything visible at a distance\n",
    "sns.set_context('poster')\n",
    "\n",
    "# Color data by species, size by petal width\n",
    "ax = sns.scatterplot(data=iris, x='sepal_length', y='petal_length', hue='species', palette='colorblind',\n",
    "                     size='petal_width')\n",
    "#ax.legend(loc='lower right')\n",
    "# Move legend to right side of screen\n",
    "ax.legend(bbox_to_anchor=(2,1))\n",
    "\n",
    "# Set figure size\n",
    "fig = ax.get_figure()\n",
    "fig.set_size_inches(8,6)"
   ]
  },
  {
   "cell_type": "code",
   "execution_count": null,
   "id": "7d4da311-f44b-49e4-95ff-1357ebf302a6",
   "metadata": {},
   "outputs": [],
   "source": [
    "# A quick histogram demo\n",
    "ax = sns.histplot(data=iris, x='petal_length', kde=True)"
   ]
  },
  {
   "cell_type": "code",
   "execution_count": null,
   "id": "3f838a43-7de7-47e8-88ef-defc22813892",
   "metadata": {},
   "outputs": [],
   "source": [
    "# Decompose by category\n",
    "ax = sns.histplot(data=iris, x='petal_length', hue='species', palette='Set2')"
   ]
  },
  {
   "cell_type": "code",
   "execution_count": null,
   "id": "94f70236-f0c9-447b-b563-66ffa938ff22",
   "metadata": {},
   "outputs": [],
   "source": [
    "# Creating multiple plots\n",
    "fig, axes = plt.subplots(figsize=(12,4), nrows=1, ncols=3)\n",
    "\n",
    "# Create 3 subplots\n",
    "sns.histplot(data=iris, x='petal_length', bins=5, ax=axes[0])\n",
    "sns.histplot(data=iris, x='petal_length', bins=10, ax=axes[1])\n",
    "sns.histplot(data=iris, x='petal_length', bins=15, ax=axes[2])"
   ]
  }
 ],
 "metadata": {
  "kernelspec": {
   "display_name": "Python 3 (ipykernel)",
   "language": "python",
   "name": "python3"
  },
  "language_info": {
   "codemirror_mode": {
    "name": "ipython",
    "version": 3
   },
   "file_extension": ".py",
   "mimetype": "text/x-python",
   "name": "python",
   "nbconvert_exporter": "python",
   "pygments_lexer": "ipython3",
   "version": "3.7.11"
  }
 },
 "nbformat": 4,
 "nbformat_minor": 5
}
