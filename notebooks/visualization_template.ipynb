{
 "cells": [
  {
   "cell_type": "code",
   "execution_count": null,
   "id": "2be6711b-0e36-411a-9122-579d40398c94",
   "metadata": {},
   "outputs": [],
   "source": [
    "## TEMPLATE CODE\n",
    "\n",
    "# Import Pyplot library\n",
    "import matplotlib.pyplot as plt"
   ]
  },
  {
   "cell_type": "code",
   "execution_count": null,
   "id": "826cd1d5-027e-4fd5-8ea4-866783aa6219",
   "metadata": {},
   "outputs": [],
   "source": [
    "## TEMPLATE CODE\n",
    "\n",
    "# Optional: Display figure in a new window from the Python terminal\n",
    "#fig.show()"
   ]
  },
  {
   "cell_type": "code",
   "execution_count": null,
   "id": "5a56439e-e84e-452a-9999-0268804db31e",
   "metadata": {},
   "outputs": [],
   "source": [
    "## TEMPLATE CODE\n",
    "\n",
    "# Create some random data\n",
    "import numpy as np\n",
    "\n",
    "x = np.arange(1980, 1990, 1)\n",
    "y = np.random.random(10)     # 10 random numbers between 0 and 1\n",
    "\n",
    "# Test that our vectors are the same\n",
    "assert len(x) == len(y)"
   ]
  },
  {
   "cell_type": "code",
   "execution_count": null,
   "id": "485a8274-a010-4059-bce4-4d35c0b6117c",
   "metadata": {},
   "outputs": [],
   "source": [
    "## TEMPLATE CODE\n",
    "\n",
    "## Graph multiple data sets\n",
    "import pandas as pd\n",
    "\n",
    "data = pd.read_csv(\"gapminder_gdp_europe.csv\", index_col='country')"
   ]
  },
  {
   "cell_type": "code",
   "execution_count": null,
   "id": "3db822f7-cade-49f1-8f80-9301637d29ef",
   "metadata": {},
   "outputs": [],
   "source": [
    "## TEMPLATE CODE\n",
    "## Transform column headers into ordinal scale\n",
    "\n",
    "# Strip off beginning of each column title\n",
    "years = data.columns.str.strip('gdpPercap_')\n",
    "\n",
    "# Convert strings to integers and make those the column headers\n",
    "data.columns = years.astype(int)"
   ]
  },
  {
   "cell_type": "code",
   "execution_count": null,
   "id": "2a44684f-0ee2-4b20-bda8-408e3dfc66e8",
   "metadata": {},
   "outputs": [],
   "source": [
    "## TEMPLATE CODE\n",
    "\n",
    "# Demo Seaborn with the Iris dataset\n",
    "iris = pd.read_csv('iris.csv')\n",
    "iris.head()"
   ]
  }
 ],
 "metadata": {
  "kernelspec": {
   "display_name": "Python 3 (ipykernel)",
   "language": "python",
   "name": "python3"
  },
  "language_info": {
   "codemirror_mode": {
    "name": "ipython",
    "version": 3
   },
   "file_extension": ".py",
   "mimetype": "text/x-python",
   "name": "python",
   "nbconvert_exporter": "python",
   "pygments_lexer": "ipython3",
   "version": "3.9.13"
  }
 },
 "nbformat": 4,
 "nbformat_minor": 5
}
